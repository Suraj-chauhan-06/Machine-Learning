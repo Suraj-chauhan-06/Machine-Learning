{
 "cells": [
  {
   "cell_type": "markdown",
   "id": "4976afcb",
   "metadata": {},
   "source": [
    "Introduction"
   ]
  },
  {
   "cell_type": "code",
   "execution_count": null,
   "id": "2314aeac",
   "metadata": {},
   "outputs": [],
   "source": [
    "```python\n",
    "from sklearn.datasets import load_iris\n",
    "from sklearn.model_selection import train_test_split\n",
    "from sklearn.linear_model import LogisticRegression\n",
    "from sklearn.metrics import accuracy_score\n",
    "\n",
    "# Load dataset\n",
    "data = load_iris()\n",
    "X, y = data.data, data.target\n",
    "\n",
    "# Split into training and testing\n",
    "X_train, X_test, y_train, y_test = train_test_split(X, y, test_size=0.3, random_state=42)\n",
    "\n",
    "# Apply Logistic Regression\n",
    "model = LogisticRegression(max_iter=200)\n",
    "model.fit(X_train, y_train)\n",
    "\n",
    "# Predict and evaluate\n",
    "y_pred = model.predict(X_test)\n",
    "print(\"Accuracy:\", accuracy_score(y_test, y_pred))\n",
    "```"
   ]
  },
  {
   "cell_type": "markdown",
   "id": "760175f7",
   "metadata": {},
   "source": [
    "2. L1 Regularization (Lasso)"
   ]
  },
  {
   "cell_type": "code",
   "execution_count": null,
   "id": "eef6f05e",
   "metadata": {},
   "outputs": [],
   "source": [
    "```python\n",
    "model_l2 = LogisticRegression(penalty='l2', solver='liblinear')\n",
    "model_l2.fit(X_train, y_train)\n",
    "print(\"L2 Regularization Accuracy:\", model_l2.score(X_test, y_test))\n",
    "print(\"Coefficients:\", model_l2.coef_)\n",
    "```"
   ]
  },
  {
   "cell_type": "markdown",
   "id": "6c85041b",
   "metadata": {},
   "source": [
    "4. Elastic Net Regularization"
   ]
  },
  {
   "cell_type": "code",
   "execution_count": null,
   "id": "3c1b1d00",
   "metadata": {},
   "outputs": [],
   "source": [
    "```python\n",
    "model_ovr = LogisticRegression(multi_class='ovr', solver='liblinear')\n",
    "model_ovr.fit(X_train, y_train)\n",
    "print(\"OvR Accuracy:\", model_ovr.score(X_test, y_test))\n",
    "```"
   ]
  },
  {
   "cell_type": "markdown",
   "id": "74d2034c",
   "metadata": {},
   "source": [
    "6. Hyperparameter Tuning using GridSearchCV"
   ]
  },
  {
   "cell_type": "code",
   "execution_count": null,
   "id": "81085fae",
   "metadata": {},
   "outputs": [],
   "source": [
    "```python\n",
    "from sklearn.model_selection import StratifiedKFold, cross_val_score\n",
    "\n",
    "skf = StratifiedKFold(n_splits=5)\n",
    "scores = cross_val_score(LogisticRegression(max_iter=200), X, y, cv=skf)\n",
    "print(\"Average Accuracy:\", scores.mean())\n",
    "```"
   ]
  },
  {
   "cell_type": "markdown",
   "id": "4d499de0",
   "metadata": {},
   "source": [
    "8. Load Dataset from CSV"
   ]
  }
 ],
 "metadata": {},
 "nbformat": 4,
 "nbformat_minor": 5
}
